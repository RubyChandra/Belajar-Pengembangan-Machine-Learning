{
  "nbformat": 4,
  "nbformat_minor": 0,
  "metadata": {
    "colab": {
      "provenance": [],
      "collapsed_sections": []
    },
    "kernelspec": {
      "name": "python3",
      "display_name": "Python 3"
    },
    "language_info": {
      "name": "python"
    },
    "accelerator": "GPU"
  },
  "cells": [
    {
      "cell_type": "markdown",
      "source": [
        "# Library"
      ],
      "metadata": {
        "id": "tY2uwb7GATMV"
      }
    },
    {
      "cell_type": "code",
      "execution_count": 1,
      "metadata": {
        "id": "0UvPgK1s_kvk"
      },
      "outputs": [],
      "source": [
        "import os\n",
        "import re\n",
        "import tensorflow as tf\n",
        "import pandas as pd\n",
        "import nltk\n",
        "from nltk.corpus import stopwords\n",
        "import matplotlib.pyplot as plt\n",
        "from sklearn.model_selection import train_test_split\n",
        "from tensorflow.keras.preprocessing.text import Tokenizer\n",
        "from tensorflow.keras.preprocessing.sequence import pad_sequences"
      ]
    },
    {
      "cell_type": "markdown",
      "source": [
        "# Dataset\n",
        "BBC NEWS 5 Class, >2000 Sample\n",
        "https://www.kaggle.com/datasets/mrutyunjaybiswal/iitjee-neet-aims-students-questions-data"
      ],
      "metadata": {
        "id": "XAyKvAZGAbPg"
      }
    },
    {
      "cell_type": "code",
      "source": [
        "!wget --no-check-certificate \\\n",
        "https://raw.githubusercontent.com/amirziai/cse6242-project/master/resources/datasets/bbc-text.csv -O /tmp/bbc-text.csv"
      ],
      "metadata": {
        "colab": {
          "base_uri": "https://localhost:8080/"
        },
        "id": "mDasH5TTAd_W",
        "outputId": "851c17a7-f78a-4a0f-fea5-955d9e327edf"
      },
      "execution_count": 2,
      "outputs": [
        {
          "output_type": "stream",
          "name": "stdout",
          "text": [
            "--2022-10-13 17:40:38--  https://raw.githubusercontent.com/amirziai/cse6242-project/master/resources/datasets/bbc-text.csv\n",
            "Resolving raw.githubusercontent.com (raw.githubusercontent.com)... 185.199.108.133, 185.199.109.133, 185.199.110.133, ...\n",
            "Connecting to raw.githubusercontent.com (raw.githubusercontent.com)|185.199.108.133|:443... connected.\n",
            "HTTP request sent, awaiting response... 200 OK\n",
            "Length: 5057493 (4.8M) [text/plain]\n",
            "Saving to: ‘/tmp/bbc-text.csv’\n",
            "\n",
            "/tmp/bbc-text.csv   100%[===================>]   4.82M  --.-KB/s    in 0.02s   \n",
            "\n",
            "2022-10-13 17:40:38 (314 MB/s) - ‘/tmp/bbc-text.csv’ saved [5057493/5057493]\n",
            "\n"
          ]
        }
      ]
    },
    {
      "cell_type": "markdown",
      "source": [
        "# Callback\n",
        "Memberhentikan pembelajaran saat akurasi validation diatas 90%"
      ],
      "metadata": {
        "id": "JdKUsTOpxpDM"
      }
    },
    {
      "cell_type": "code",
      "source": [
        "class stopTraining(tf.keras.callbacks.Callback):\n",
        "  def on_epoch_end(self, epoch, logs={}):\n",
        "    if (logs.get('val_loss')<=0.28 and logs.get('val_accuracy')>=0.90):\n",
        "      print(\"Menghentikan proses pembelajaran, Target akurasi sudah tercapai\")\n",
        "      self.model.stop_training=True\n",
        "\n",
        "myCallback = stopTraining()"
      ],
      "metadata": {
        "id": "dsdNeRuIxr6B"
      },
      "execution_count": 3,
      "outputs": []
    },
    {
      "cell_type": "markdown",
      "source": [
        "# Preprocessing Text\n",
        "Meliputi\n",
        "\n",
        "\n",
        "*   Cleaning Unneeded Char (Punct and Number)\n",
        "*   Filtering Stopwords\n",
        "\n",
        "*   Stemming and Lemmatization\n",
        "\n",
        "\n",
        "\n"
      ],
      "metadata": {
        "id": "tgAuWb_YNBTz"
      }
    },
    {
      "cell_type": "code",
      "source": [
        "nltk.download('stopwords')\n",
        "nltk.download('wordnet')\n",
        "nltk.download('omw-1.4')\n",
        "\n",
        "!wget --no-check-certificate \\\n",
        "https://raw.githubusercontent.com/stopwords-iso/stopwords-en/master/stopwords-en.txt -O /tmp/more-stopwords.txt\n",
        "\n",
        "my_file = open(\"/tmp/more-stopwords.txt\")\n",
        "data = my_file.read()\n",
        "MORE_STOPWORDS = data.split(\"\\n\")\n",
        "\n",
        "STOPWORDS = set(stopwords.words('english'))\n",
        "STOPWORDS.update(MORE_STOPWORDS)\n",
        "\n",
        "ps = nltk.stem.PorterStemmer()\n",
        "ls = nltk.stem.WordNetLemmatizer()\n",
        "\n",
        "def cleaning_func(text):\n",
        "    arr=[]\n",
        "    text = text.lower()\n",
        "    text = re.sub(r'[^\\w\\s]',' ', text)\n",
        "    text = re.sub(r'\\d+', '', text)\n",
        "    text = ' '.join(word for word in text.split() if word not in STOPWORDS)\n",
        "    text = text.split()\n",
        "    for word in text:\n",
        "      word = ls.lemmatize(word)\n",
        "      word = ps.stem(word)\n",
        "      arr.append(word)\n",
        "    text = ' '.join(arr)\n",
        "    return text\n"
      ],
      "metadata": {
        "colab": {
          "base_uri": "https://localhost:8080/"
        },
        "id": "ff6hffF4j3XA",
        "outputId": "2c355acd-1ab6-4523-ce0c-46b35126adfa"
      },
      "execution_count": 4,
      "outputs": [
        {
          "output_type": "stream",
          "name": "stderr",
          "text": [
            "[nltk_data] Downloading package stopwords to /root/nltk_data...\n",
            "[nltk_data]   Package stopwords is already up-to-date!\n",
            "[nltk_data] Downloading package wordnet to /root/nltk_data...\n",
            "[nltk_data]   Package wordnet is already up-to-date!\n",
            "[nltk_data] Downloading package omw-1.4 to /root/nltk_data...\n",
            "[nltk_data]   Package omw-1.4 is already up-to-date!\n"
          ]
        },
        {
          "output_type": "stream",
          "name": "stdout",
          "text": [
            "--2022-10-13 17:40:38--  https://raw.githubusercontent.com/stopwords-iso/stopwords-en/master/stopwords-en.txt\n",
            "Resolving raw.githubusercontent.com (raw.githubusercontent.com)... 185.199.108.133, 185.199.109.133, 185.199.110.133, ...\n",
            "Connecting to raw.githubusercontent.com (raw.githubusercontent.com)|185.199.108.133|:443... connected.\n",
            "HTTP request sent, awaiting response... 200 OK\n",
            "Length: 7677 (7.5K) [text/plain]\n",
            "Saving to: ‘/tmp/more-stopwords.txt’\n",
            "\n",
            "/tmp/more-stopwords 100%[===================>]   7.50K  --.-KB/s    in 0s      \n",
            "\n",
            "2022-10-13 17:40:38 (76.9 MB/s) - ‘/tmp/more-stopwords.txt’ saved [7677/7677]\n",
            "\n"
          ]
        }
      ]
    },
    {
      "cell_type": "code",
      "source": [
        "df = pd.read_csv('/tmp/bbc-text.csv')\n",
        "category = pd.get_dummies(df.category)\n",
        "\n",
        "df = pd.concat([df,category], axis=1)\n",
        "df.drop(columns='category', inplace=True, axis=1)\n",
        "\n",
        "for i in df.index:\n",
        "  df.at[i,'text']=cleaning_func(df.at[i,'text'])\n",
        "\n",
        "text_set = df['text']\n",
        "label_set = df[['business','entertainment','politics','sport','tech']].values\n",
        "\n",
        "X_train, X_test, y_train, y_test = train_test_split(text_set,\n",
        "                                                    label_set,\n",
        "                                                    random_state=1,\n",
        "                                                    test_size=0.2,\n",
        "                                                    shuffle=True\n",
        "                                                    )"
      ],
      "metadata": {
        "id": "Rbd0dFMQHl0p"
      },
      "execution_count": 5,
      "outputs": []
    },
    {
      "cell_type": "markdown",
      "source": [
        "Tokenzing -> Sequences -> Pad_Sequences"
      ],
      "metadata": {
        "id": "DTyYd1f_OQcs"
      }
    },
    {
      "cell_type": "code",
      "source": [
        "tokenizer = Tokenizer(num_words=5000, oov_token='UNK',\n",
        "                      filters='!\"#$%&()*+,-./:;<=>?@[\\]^_`{|}~',\n",
        "                      lower=True)\n",
        "tokenizer.fit_on_texts(X_train) \n",
        "     \n",
        "sekuens_latih = tokenizer.texts_to_sequences(X_train)\n",
        "sekuens_test = tokenizer.texts_to_sequences(X_test)\n",
        "     \n",
        "padded_latih = pad_sequences(sekuens_latih)\n",
        "padded_test = pad_sequences(sekuens_test)"
      ],
      "metadata": {
        "id": "7EsU62C5LEC2"
      },
      "execution_count": 6,
      "outputs": []
    },
    {
      "cell_type": "markdown",
      "source": [
        "# Model Preparation"
      ],
      "metadata": {
        "id": "sdFvNjIDy-Xe"
      }
    },
    {
      "cell_type": "code",
      "source": [
        "model = tf.keras.Sequential([\n",
        "        tf.keras.layers.Embedding(input_dim=5000, output_dim=16),\n",
        "        tf.keras.layers.LSTM(64),\n",
        "        tf.keras.layers.Dense(128, activation='relu'),\n",
        "        tf.keras.layers.Dropout(0.1),\n",
        "        tf.keras.layers.Dense(5, activation='softmax')\n",
        "    ])\n",
        "model.compile(loss='categorical_crossentropy',\n",
        "              optimizer='nadam',\n",
        "              metrics=['accuracy']\n",
        "              )"
      ],
      "metadata": {
        "id": "9wI_WfxSLZjY"
      },
      "execution_count": 7,
      "outputs": []
    },
    {
      "cell_type": "code",
      "source": [
        "model.summary()"
      ],
      "metadata": {
        "colab": {
          "base_uri": "https://localhost:8080/"
        },
        "id": "MvIwzhipa1fS",
        "outputId": "7aa8831a-0d78-4006-f62c-9f2a0decbd7a"
      },
      "execution_count": 8,
      "outputs": [
        {
          "output_type": "stream",
          "name": "stdout",
          "text": [
            "Model: \"sequential\"\n",
            "_________________________________________________________________\n",
            " Layer (type)                Output Shape              Param #   \n",
            "=================================================================\n",
            " embedding (Embedding)       (None, None, 16)          80000     \n",
            "                                                                 \n",
            " lstm (LSTM)                 (None, 64)                20736     \n",
            "                                                                 \n",
            " dense (Dense)               (None, 128)               8320      \n",
            "                                                                 \n",
            " dropout (Dropout)           (None, 128)               0         \n",
            "                                                                 \n",
            " dense_1 (Dense)             (None, 5)                 645       \n",
            "                                                                 \n",
            "=================================================================\n",
            "Total params: 109,701\n",
            "Trainable params: 109,701\n",
            "Non-trainable params: 0\n",
            "_________________________________________________________________\n"
          ]
        }
      ]
    },
    {
      "cell_type": "markdown",
      "source": [
        "# Fitting Model"
      ],
      "metadata": {
        "id": "pJORpkSAzCoQ"
      }
    },
    {
      "cell_type": "code",
      "source": [
        "num_epochs = 100\n",
        "records = model.fit(padded_latih, y_train, epochs=num_epochs, batch_size=28, \n",
        "                    validation_data=(padded_test, y_test), verbose=2,\n",
        "                    callbacks=[myCallback])"
      ],
      "metadata": {
        "colab": {
          "base_uri": "https://localhost:8080/"
        },
        "id": "Jui8iY_lLefq",
        "outputId": "841c52f9-ac6c-439e-f84b-32de604c2e1f"
      },
      "execution_count": 9,
      "outputs": [
        {
          "output_type": "stream",
          "name": "stdout",
          "text": [
            "Epoch 1/100\n",
            "64/64 - 8s - loss: 1.4801 - accuracy: 0.3657 - val_loss: 1.0534 - val_accuracy: 0.4539 - 8s/epoch - 117ms/step\n",
            "Epoch 2/100\n",
            "64/64 - 3s - loss: 1.0043 - accuracy: 0.4539 - val_loss: 0.8966 - val_accuracy: 0.5056 - 3s/epoch - 44ms/step\n",
            "Epoch 3/100\n",
            "64/64 - 3s - loss: 0.9358 - accuracy: 0.5427 - val_loss: 0.8912 - val_accuracy: 0.7101 - 3s/epoch - 44ms/step\n",
            "Epoch 4/100\n",
            "64/64 - 3s - loss: 0.6397 - accuracy: 0.7511 - val_loss: 0.6231 - val_accuracy: 0.7640 - 3s/epoch - 44ms/step\n",
            "Epoch 5/100\n",
            "64/64 - 3s - loss: 0.3751 - accuracy: 0.8809 - val_loss: 0.4584 - val_accuracy: 0.8652 - 3s/epoch - 44ms/step\n",
            "Epoch 6/100\n",
            "64/64 - 3s - loss: 0.1682 - accuracy: 0.9551 - val_loss: 0.4088 - val_accuracy: 0.8674 - 3s/epoch - 44ms/step\n",
            "Epoch 7/100\n",
            "Menghentikan proses pembelajaran, Target akurasi sudah tercapai\n",
            "64/64 - 3s - loss: 0.0518 - accuracy: 0.9888 - val_loss: 0.2417 - val_accuracy: 0.9461 - 3s/epoch - 44ms/step\n"
          ]
        }
      ]
    },
    {
      "cell_type": "markdown",
      "source": [
        "# PLOT ACCURACY and LOSS"
      ],
      "metadata": {
        "id": "IqQ1A8CaNA6Y"
      }
    },
    {
      "cell_type": "code",
      "source": [
        "f = plt.figure(figsize=(12,3))\n",
        "plt.subplot(1, 2, 1)\n",
        "plt.plot(records.history['accuracy'])\n",
        "plt.plot(records.history['val_accuracy'])\n",
        "plt.title('model accuracy')\n",
        "plt.ylabel('accuracy')\n",
        "plt.xlabel('epoch')\n",
        "plt.legend(['train', 'val'], loc='upper left')\n",
        "\n",
        "plt.subplot(1, 2, 2)\n",
        "plt.plot(records.history['loss'])\n",
        "plt.plot(records.history['val_loss'])\n",
        "plt.title('model loss')\n",
        "plt.ylabel('loss')\n",
        "plt.xlabel('epoch')\n",
        "plt.legend(['train', 'val'], loc='upper left')\n",
        "\n",
        "plt.show()"
      ],
      "metadata": {
        "id": "Kaw_d1kCNFEt",
        "outputId": "b483b763-b7a9-417d-8dfa-3679959283ba",
        "colab": {
          "base_uri": "https://localhost:8080/",
          "height": 241
        }
      },
      "execution_count": 10,
      "outputs": [
        {
          "output_type": "display_data",
          "data": {
            "text/plain": [
              "<Figure size 864x216 with 2 Axes>"
            ],
            "image/png": "[encoded data removed]"
          },
          "metadata": {
            "needs_background": "light"
          }
        }
      ]
    }
  ]
}